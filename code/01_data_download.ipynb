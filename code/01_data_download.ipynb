{
 "cells": [
  {
   "cell_type": "code",
   "execution_count": 1,
   "id": "53dd1d67-f6df-41a3-ad36-48a78cfec6c9",
   "metadata": {},
   "outputs": [],
   "source": [
    "import ftplib\n",
    "import gc\n",
    "import glob\n",
    "import os\n",
    "import tarfile\n",
    "\n",
    "import geopandas as gpd\n",
    "import rasterio\n",
    "import rioxarray as rio\n",
    "from rasterio.features import geometry_mask\n",
    "from rasterio.warp import Resampling, calculate_default_transform, reproject\n",
    "from rioxarray.merge import merge_arrays"
   ]
  },
  {
   "cell_type": "markdown",
   "id": "74fe62e9-7da8-4b0f-b08d-a58bc5cdc7ed",
   "metadata": {},
   "source": [
    "# Svalbard catchment delineation\n",
    "\n",
    "# Notebook 01: Basic processing\n",
    "\n",
    "**The merging and resampling steps (sections 3 and 4) require a large machine (240 GB memory).**\n",
    "\n",
    "The [ArcticDEM website](https://www.pgc.umn.edu/data/arcticdem/) has 2 m and 10 m resolution elevation datasets covering most of the Arctic. The datasets are tiled and a tile index for each dataset is provided as a shapefile with a download URL in the attribute table. I have downloaded the tile indexes and deleted all tiles except for those covering Svalbard. These are stored in the folders below:\n",
    "\n",
    "    shared/common/01_datasets/spatial/svalbard/arctic_dem_10m/ArcticDEM_Mosaic_Index_v4_1_10m_SvalbardOnly.shp\n",
    "    \n",
    "    shared/common/01_datasets/spatial/svalbard/arctic_dem_2m/ArcticDEM_Mosaic_Index_v4_1_2m_SvalbardOnly.shp\n",
    "\n",
    "This notebook downloads the 10 m raw data, reprojects it to UTM Zone 33 N, and merges the datasets to a single GeoTIFF. Downsampled versions at 20 m and 40 m are also created. The notebook can also be used to download and merge the 2 m dataset, but the output file will likely be too cumbersome to be used effectively (~50 GB compressed?). To work at 2 m resolution, we probably need to split the data into \"main catchments\", like I did for the national catchment tool."
   ]
  },
  {
   "cell_type": "code",
   "execution_count": 2,
   "id": "39d4fad6-ee54-4e4b-b974-10196122a19c",
   "metadata": {},
   "outputs": [],
   "source": [
    "# Dataset resolution to download (either 2 m or 10 m)\n",
    "res = 10\n",
    "\n",
    "# Projected CRS to use (EPSG)\n",
    "epsg = 25833\n",
    "\n",
    "# FTP server details. Faster and more reliable than downloading over http.\n",
    "# See https://data.pgc.umn.edu/elev/dem/setsm/ArcticDEM/\n",
    "ftp_server = \"ftp.data.pgc.umn.edu\"\n",
    "\n",
    "# Properties for output mosaic\n",
    "no_data_val = -9999\n",
    "dst_dtype = \"float32\"  # Rasterio dtypes: https://test2.biogeo.ucdavis.edu/rasterio/_modules/rasterio/dtypes.html\n",
    "bbox = (400000, 8480000, 754000, 8980000)  # xmin, ymin, xmax, ymax\n",
    "\n",
    "# Polygons representing sea for masking strange values\n",
    "sea_mask_shp = (\n",
    "    r\"/home/jovyan/shared/common/01_datasets/spatial/svalbard/vector/svalbard_sea.shp\"\n",
    ")"
   ]
  },
  {
   "cell_type": "code",
   "execution_count": 3,
   "id": "3528a40c-7c53-48bf-815b-9d4c1a7ad0a7",
   "metadata": {},
   "outputs": [],
   "source": [
    "# Validate user options\n",
    "assert res in (2, 10), \"'res' must be either 2 or 10 (metres).\"\n",
    "assert isinstance(epsg, int), \"EPSG code must be an integer.\"\n",
    "\n",
    "# Build folder paths\n",
    "base_dir = f\"/home/jovyan/shared/common/01_datasets/spatial/svalbard/arctic_dem_{res}m\"\n",
    "raw_dir = os.path.join(base_dir, \"raw_tiles\")\n",
    "proj_dir = os.path.join(base_dir, \"proj_tiles\")\n",
    "merge_dir = os.path.join(base_dir, \"merged\")\n",
    "\n",
    "# Build folders\n",
    "for dir_path in [base_dir, raw_dir, proj_dir, merge_dir]:\n",
    "    if not os.path.exists(dir_path):\n",
    "        os.makedirs(dir_path)"
   ]
  },
  {
   "cell_type": "markdown",
   "id": "55a6ee7e-13ae-40c9-99af-b78b9c8a3f00",
   "metadata": {},
   "source": [
    "## 1. Data download"
   ]
  },
  {
   "cell_type": "code",
   "execution_count": 4,
   "id": "4e5cd2f9-731f-4215-b5bf-8d5fb046c4da",
   "metadata": {},
   "outputs": [
    {
     "name": "stderr",
     "output_type": "stream",
     "text": [
      "/opt/conda/lib/python3.11/site-packages/pyogrio/geopandas.py:49: FutureWarning: errors='ignore' is deprecated and will raise in a future version. Use to_datetime without passing `errors` and catch exceptions explicitly instead\n",
      "  res = pd.to_datetime(ser, **datetime_kwargs)\n"
     ]
    },
    {
     "name": "stdout",
     "output_type": "stream",
     "text": [
      "17 DEM tiles to download.\n",
      "\n",
      "Processing 34_50_10m_v4.1.tar.gz:\n",
      "  Downloading...\n",
      "  Unzipping...\n",
      "Processing 37_51_10m_v4.1.tar.gz:\n",
      "  Downloading...\n",
      "  Unzipping...\n",
      "Processing 35_53_10m_v4.1.tar.gz:\n",
      "  Downloading...\n",
      "  Unzipping...\n",
      "Processing 35_52_10m_v4.1.tar.gz:\n",
      "  Downloading...\n",
      "  Unzipping...\n",
      "Processing 33_53_10m_v4.1.tar.gz:\n",
      "  Downloading...\n",
      "  Unzipping...\n",
      "Processing 35_51_10m_v4.1.tar.gz:\n",
      "  Downloading...\n",
      "  Unzipping...\n",
      "Processing 33_51_10m_v4.1.tar.gz:\n",
      "  Downloading...\n",
      "  Unzipping...\n",
      "Processing 37_50_10m_v4.1.tar.gz:\n",
      "  Downloading...\n",
      "  Unzipping...\n",
      "Processing 36_50_10m_v4.1.tar.gz:\n",
      "  Downloading...\n",
      "  Unzipping...\n",
      "Processing 36_53_10m_v4.1.tar.gz:\n",
      "  Downloading...\n",
      "  Unzipping...\n",
      "Processing 33_52_10m_v4.1.tar.gz:\n",
      "  Downloading...\n",
      "  Unzipping...\n",
      "Processing 36_52_10m_v4.1.tar.gz:\n",
      "  Downloading...\n",
      "  Unzipping...\n",
      "Processing 34_53_10m_v4.1.tar.gz:\n",
      "  Downloading...\n",
      "  Unzipping...\n",
      "Processing 34_51_10m_v4.1.tar.gz:\n",
      "  Downloading...\n",
      "  Unzipping...\n",
      "Processing 36_51_10m_v4.1.tar.gz:\n",
      "  Downloading...\n",
      "  Unzipping...\n",
      "Processing 35_50_10m_v4.1.tar.gz:\n",
      "  Downloading...\n",
      "  Unzipping...\n",
      "Processing 34_52_10m_v4.1.tar.gz:\n",
      "  Downloading...\n",
      "  Unzipping...\n",
      "CPU times: user 47.9 s, sys: 11.6 s, total: 59.5 s\n",
      "Wall time: 3min 54s\n"
     ]
    },
    {
     "data": {
      "text/plain": [
       "'221 Goodbye.'"
      ]
     },
     "execution_count": 4,
     "metadata": {},
     "output_type": "execute_result"
    }
   ],
   "source": [
    "%%time\n",
    "\n",
    "# Read tile index\n",
    "idx_shp_path = os.path.join(\n",
    "    base_dir, f\"ArcticDEM_Mosaic_Index_v4_1_{res}m_SvalbardOnly.shp\"\n",
    ")\n",
    "idx_gdf = gpd.read_file(idx_shp_path)\n",
    "print(len(idx_gdf), \"DEM tiles to download.\\n\")\n",
    "\n",
    "# Connect to FTP server\n",
    "ftp = ftplib.FTP(ftp_server)\n",
    "ftp.login()\n",
    "\n",
    "# Loop over tiles\n",
    "for idx, row in idx_gdf.iterrows():\n",
    "    url = row[\"fileurl\"].split(\"data.pgc.umn.edu\")[1]\n",
    "    fname = os.path.basename(url)\n",
    "    fpath = os.path.join(raw_dir, fname)\n",
    "    print(f\"Processing {fname}:\")\n",
    "\n",
    "    # Download tile via FTP\n",
    "    print(\"  Downloading...\")\n",
    "    with open(fpath, \"wb\") as f:\n",
    "        ftp.retrbinary(f\"RETR {url}\", f.write)\n",
    "\n",
    "    # Unzip, keeping only specific files\n",
    "    print(\"  Unzipping...\")\n",
    "    with tarfile.open(fpath, \"r:gz\") as tar_ref:\n",
    "        for member in tar_ref.getmembers():\n",
    "            if any(\n",
    "                member.name.endswith(suffix)\n",
    "                for suffix in [\"_browse.tif\", \"_datamask.tif\", \"_dem.tif\"]\n",
    "            ):\n",
    "                tar_ref.extract(member, raw_dir)\n",
    "\n",
    "ftp.quit()"
   ]
  },
  {
   "cell_type": "markdown",
   "id": "88d01c57-dc3d-422b-90a7-1ed138db99a7",
   "metadata": {},
   "source": [
    "## 2. Mask raw tiles\n",
    "\n",
    "Some of the DEM tiles have strange values offshore (e.g. areas of the sea at > 30 m above sea level). This causes issues during terrain processing, because the pit-filling algorithm ends up filling river valleys up to around 30 m in order to flow over this weird offshore \"sea wall\". However, the raw data for each tile also includes a data mask, which can be used to set values offshore to NoData. This is done below before reprojecting and merging."
   ]
  },
  {
   "cell_type": "code",
   "execution_count": 5,
   "id": "5516b973-41a3-4997-b8cc-a981108e2845",
   "metadata": {},
   "outputs": [
    {
     "name": "stdout",
     "output_type": "stream",
     "text": [
      "CPU times: user 33.7 s, sys: 10.6 s, total: 44.4 s\n",
      "Wall time: 1min 14s\n"
     ]
    }
   ],
   "source": [
    "%%time\n",
    "\n",
    "# List of DEM files to process\n",
    "search_path = os.path.join(raw_dir, \"*_dem.tif\")\n",
    "flist = glob.glob(search_path)\n",
    "\n",
    "for dem_path in flist:\n",
    "    # Get paths to DEM tile and corresponding data mask\n",
    "    dem_name = os.path.basename(dem_path)\n",
    "    mask_name = dem_name.replace(\"_dem.tif\", \"_datamask.tif\")\n",
    "    mask_path = os.path.join(raw_dir, mask_name)\n",
    "\n",
    "    # Read data to arrays\n",
    "    with rasterio.open(dem_path) as dem_src:\n",
    "        dem_data = dem_src.read(1)\n",
    "        dem_meta = dem_src.meta\n",
    "\n",
    "    with rasterio.open(mask_path) as mask_src:\n",
    "        mask_data = mask_src.read(1)\n",
    "\n",
    "    # Set values in DEM to NoData where mask is zero\n",
    "    dem_data[mask_data == 0] = dem_meta[\"nodata\"]\n",
    "\n",
    "    # Save\n",
    "    masked_dem_path = os.path.join(\n",
    "        raw_dir, dem_name.replace(\"_dem.tif\", \"_dem-masked.tif\")\n",
    "    )\n",
    "    with rasterio.open(masked_dem_path, \"w\", **dem_meta) as dest:\n",
    "        dest.write(dem_data, 1)"
   ]
  },
  {
   "cell_type": "markdown",
   "id": "aac04ccd-353f-4af6-b4b9-3b8444cc0f0f",
   "metadata": {},
   "source": [
    "## 3. Reproject"
   ]
  },
  {
   "cell_type": "code",
   "execution_count": 6,
   "id": "b6e55e32-d89d-45fe-b6a6-4d2bc4ac2b11",
   "metadata": {},
   "outputs": [],
   "source": [
    "def reproject_file(src_path, dst_path, dst_crs, resolution):\n",
    "    \"\"\"Reproject 'src_path' to 'dst_crs' with a resolution of 'resolution'\n",
    "    and save to 'dst_path'.\n",
    "\n",
    "    Args\n",
    "        src_path: Str. Path to source dataset (GeoTiff).\n",
    "        dst_path: Str. Dataset to create (GeoTiff).\n",
    "        dst_crs: Str. EPSG code for final dataset. Format: 'epsg:XXXX'.\n",
    "        resolution: Int. Cell size for output in units of 'dst_crs'.\n",
    "\n",
    "    Returns\n",
    "        None. 'dst_path' is created.\n",
    "    \"\"\"\n",
    "    with rasterio.open(src_path) as src:\n",
    "        transform, width, height = calculate_default_transform(\n",
    "            src.crs, dst_crs, src.width, src.height, *src.bounds, resolution=resolution\n",
    "        )\n",
    "        kwargs = src.meta.copy()\n",
    "        kwargs.update(\n",
    "            {\n",
    "                \"crs\": dst_crs,\n",
    "                \"transform\": transform,\n",
    "                \"width\": width,\n",
    "                \"height\": height,\n",
    "                \"compress\": \"lzw\",\n",
    "                \"dtype\": \"float32\",\n",
    "            }\n",
    "        )\n",
    "\n",
    "        with rasterio.open(dst_path, \"w\", **kwargs) as dst:\n",
    "            for i in range(1, src.count + 1):\n",
    "                reproject(\n",
    "                    source=rasterio.band(src, i),\n",
    "                    destination=rasterio.band(dst, i),\n",
    "                    src_transform=src.transform,\n",
    "                    src_crs=src.crs,\n",
    "                    dst_transform=transform,\n",
    "                    dst_crs=dst_crs,\n",
    "                    resampling=Resampling.bilinear,\n",
    "                )"
   ]
  },
  {
   "cell_type": "code",
   "execution_count": 7,
   "id": "32529fa9-7988-4dc2-ae2d-6c8a1a657b59",
   "metadata": {},
   "outputs": [
    {
     "name": "stdout",
     "output_type": "stream",
     "text": [
      "CPU times: user 5min 8s, sys: 13.6 s, total: 5min 21s\n",
      "Wall time: 5min 37s\n"
     ]
    }
   ],
   "source": [
    "%%time\n",
    "\n",
    "# List of DEM files to reproject\n",
    "search_path = os.path.join(raw_dir, \"*_dem-masked.tif\")\n",
    "flist = glob.glob(search_path)\n",
    "\n",
    "# Reproject\n",
    "for src_path in flist:\n",
    "    src_fname = os.path.basename(src_path)\n",
    "    dst_fname = src_fname.replace(\"_dem-masked.tif\", \"_dem_proj.tif\")\n",
    "    dst_path = os.path.join(proj_dir, dst_fname)\n",
    "    reproject_file(src_path, dst_path, f\"EPSG:{epsg}\", res)"
   ]
  },
  {
   "cell_type": "markdown",
   "id": "ef41ae81-3281-420e-aec5-a52a487ea5ba",
   "metadata": {},
   "source": [
    "## 4. Merge"
   ]
  },
  {
   "cell_type": "code",
   "execution_count": 8,
   "id": "e5060ebf-1fc0-4619-b22e-ed6eba53ddaf",
   "metadata": {},
   "outputs": [
    {
     "name": "stdout",
     "output_type": "stream",
     "text": [
      "Opening files...\n",
      "Merging tiles...\n",
      "Saving...\n",
      "Done.\n",
      "CPU times: user 3min 55s, sys: 1min 45s, total: 5min 40s\n",
      "Wall time: 5min 41s\n"
     ]
    }
   ],
   "source": [
    "%%time\n",
    "\n",
    "# List of DEM files to merge\n",
    "search_path = os.path.join(proj_dir, \"*_dem_proj.tif\")\n",
    "flist = glob.glob(search_path)\n",
    "\n",
    "print(\"Opening files...\")\n",
    "srcs = [rio.open_rasterio(fpath, mask_and_scale=True, cache=False) for fpath in flist]\n",
    "\n",
    "print(\"Merging tiles...\")\n",
    "rds = merge_arrays(srcs, bounds=bbox, res=res)\n",
    "\n",
    "print(\"Saving...\")\n",
    "merge_path = os.path.join(merge_dir, f\"svalbard_{res}m_dem_proj.tif\")\n",
    "rds.rio.write_nodata(no_data_val, inplace=True)\n",
    "rds.rio.to_raster(\n",
    "    merge_path,\n",
    "    compress=\"lzw\",\n",
    "    BIGTIFF=\"YES\",\n",
    "    tiled=True,\n",
    "    dtype=dst_dtype,\n",
    ")\n",
    "srcs = [src.close() for src in srcs]\n",
    "rds.close()\n",
    "del srcs, rds\n",
    "gc.collect()\n",
    "\n",
    "print(\"Done.\")"
   ]
  },
  {
   "cell_type": "markdown",
   "id": "51d2c79d-914e-4f8b-84f8-653a88ef80ec",
   "metadata": {},
   "source": [
    "## 5. Set sea mask\n",
    "\n",
    "The coastline in the raster data does not match that in the vector data. This leads to issues where vector streams stop before they reach the raster coast, which causes issues with the \"burning\". This codes uses the vector coastline to set cells in the sea to NaN."
   ]
  },
  {
   "cell_type": "code",
   "execution_count": 9,
   "id": "c27ba502-3f6a-474e-9b28-745dac6c1dd1",
   "metadata": {},
   "outputs": [],
   "source": [
    "# Read merged DEM\n",
    "with rasterio.open(merge_path) as src:\n",
    "    meta = src.meta.copy()\n",
    "    data = src.read(1)\n",
    "\n",
    "# Read sea polys and convert to mask\n",
    "gdf = gpd.read_file(sea_mask_shp)\n",
    "mask = geometry_mask(\n",
    "    [geom for geom in gdf.geometry],\n",
    "    transform=src.transform,\n",
    "    invert=True,\n",
    "    out_shape=src.shape,\n",
    ")\n",
    "\n",
    "# Set sea to NoData\n",
    "data[mask] = meta[\"nodata\"]\n",
    "\n",
    "# Save\n",
    "with rasterio.open(merge_path, \"w\", **meta) as dst:\n",
    "    dst.write(data, 1)"
   ]
  },
  {
   "cell_type": "markdown",
   "id": "d479b260-5550-4fe2-bd8d-9175e348b87e",
   "metadata": {},
   "source": [
    "## 6. Resampling"
   ]
  },
  {
   "cell_type": "code",
   "execution_count": 10,
   "id": "8a605dba-2838-4100-975e-f901932d8d89",
   "metadata": {},
   "outputs": [
    {
     "name": "stdout",
     "output_type": "stream",
     "text": [
      "Downsampling to 20m...\n",
      "CPU times: user 1min 28s, sys: 19.6 s, total: 1min 48s\n",
      "Wall time: 1min 58s\n"
     ]
    },
    {
     "data": {
      "text/plain": [
       "99"
      ]
     },
     "execution_count": 10,
     "metadata": {},
     "output_type": "execute_result"
    }
   ],
   "source": [
    "%%time\n",
    "\n",
    "print(\"Downsampling to 20m...\")\n",
    "\n",
    "# Build folders\n",
    "base_dir_20m = r\"/home/jovyan/shared/common/01_datasets/spatial/svalbard/arctic_dem_20m\"\n",
    "merge_dir_20m = os.path.join(base_dir_20m, \"merged\")\n",
    "for dir_path in [base_dir_20m, merge_dir_20m]:\n",
    "    if not os.path.exists(dir_path):\n",
    "        os.makedirs(dir_path)\n",
    "\n",
    "# Resample\n",
    "merged_10m_path = os.path.join(merge_dir, r\"svalbard_10m_dem_proj.tif\")\n",
    "rds = rio.open_rasterio(merged_10m_path, mask_and_scale=True, cache=False)\n",
    "upscale_factor = 0.5\n",
    "width = int(rds.rio.width * upscale_factor)\n",
    "height = int(rds.rio.height * upscale_factor)\n",
    "rds = rds.rio.reproject(\n",
    "    rds.rio.crs,\n",
    "    shape=(height, width),\n",
    "    resampling=Resampling.bilinear,\n",
    ")\n",
    "\n",
    "# Save\n",
    "merged_20m_path = os.path.join(merge_dir_20m, r\"svalbard_20m_dem_proj.tif\")\n",
    "rds.rio.to_raster(\n",
    "    merged_20m_path, compress=\"lzw\", BIGTIFF=\"IF_SAFER\", tiled=True, dtype=dst_dtype\n",
    ")\n",
    "rds.close()\n",
    "del rds\n",
    "gc.collect()"
   ]
  },
  {
   "cell_type": "code",
   "execution_count": 11,
   "id": "1028a37c-e68b-4946-ae83-77b503b23814",
   "metadata": {},
   "outputs": [
    {
     "name": "stdout",
     "output_type": "stream",
     "text": [
      "Downsampling to 40m...\n",
      "CPU times: user 51.8 s, sys: 15.4 s, total: 1min 7s\n",
      "Wall time: 1min 7s\n"
     ]
    },
    {
     "data": {
      "text/plain": [
       "98"
      ]
     },
     "execution_count": 11,
     "metadata": {},
     "output_type": "execute_result"
    }
   ],
   "source": [
    "%%time\n",
    "\n",
    "print(\"Downsampling to 40m...\")\n",
    "\n",
    "# Build folders\n",
    "base_dir_40m = r\"/home/jovyan/shared/common/01_datasets/spatial/svalbard/arctic_dem_40m\"\n",
    "merge_dir_40m = os.path.join(base_dir_40m, \"merged\")\n",
    "for dir_path in [base_dir_40m, merge_dir_40m]:\n",
    "    if not os.path.exists(dir_path):\n",
    "        os.makedirs(dir_path)\n",
    "\n",
    "# Resample\n",
    "merged_10m_path = os.path.join(merge_dir, r\"svalbard_10m_dem_proj.tif\")\n",
    "rds = rio.open_rasterio(merged_10m_path, mask_and_scale=True, cache=False)\n",
    "upscale_factor = 0.25\n",
    "width = int(rds.rio.width * upscale_factor)\n",
    "height = int(rds.rio.height * upscale_factor)\n",
    "rds = rds.rio.reproject(\n",
    "    rds.rio.crs,\n",
    "    shape=(height, width),\n",
    "    resampling=Resampling.bilinear,\n",
    ")\n",
    "\n",
    "# Save\n",
    "merged_40m_path = os.path.join(merge_dir_40m, r\"svalbard_40m_dem_proj.tif\")\n",
    "rds.rio.to_raster(\n",
    "    merged_40m_path, compress=\"lzw\", BIGTIFF=\"IF_SAFER\", tiled=True, dtype=dst_dtype\n",
    ")\n",
    "rds.close()\n",
    "del rds\n",
    "gc.collect()"
   ]
  }
 ],
 "metadata": {
  "kernelspec": {
   "display_name": "Python 3 (ipykernel)",
   "language": "python",
   "name": "python3"
  },
  "language_info": {
   "codemirror_mode": {
    "name": "ipython",
    "version": 3
   },
   "file_extension": ".py",
   "mimetype": "text/x-python",
   "name": "python",
   "nbconvert_exporter": "python",
   "pygments_lexer": "ipython3",
   "version": "3.11.6"
  }
 },
 "nbformat": 4,
 "nbformat_minor": 5
}
